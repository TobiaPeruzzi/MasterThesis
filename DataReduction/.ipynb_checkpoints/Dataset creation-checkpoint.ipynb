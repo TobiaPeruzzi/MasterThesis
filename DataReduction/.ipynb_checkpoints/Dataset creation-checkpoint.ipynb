{
 "cells": [
  {
   "cell_type": "markdown",
   "metadata": {},
   "source": [
    "## [SECTION 0]\n",
    "\n",
    "**Importing modules**"
   ]
  },
  {
   "cell_type": "code",
   "execution_count": null,
   "metadata": {},
   "outputs": [],
   "source": [
    "import numpy as np\n",
    "import pandas as pd\n",
    "import csv\n",
    "import os\n",
    "import shutil\n",
    "import glob\n",
    "from astropy.io import ascii"
   ]
  },
  {
   "cell_type": "markdown",
   "metadata": {},
   "source": [
    "## [SECTION 1]\n",
    "\n",
    "**Redshift correction and flux normalization**"
   ]
  },
  {
   "cell_type": "code",
   "execution_count": null,
   "metadata": {},
   "outputs": [],
   "source": [
    "# creating the list \"sey2_spectra_names\" containing the names of the type 2 spectra\n",
    "\n",
    "info_sey2 = ascii.read('/home/tobia/PycharmProjects/AGN_spectra/file_sey2/sey2_data_flx.txt')\n",
    "\n",
    "plate = info_sey2['plate']\n",
    "mjd = info_sey2['mjd']\n",
    "fiberid = info_sey2['fiberid']\n",
    "\n",
    "prepare1='spec=lite?plateid='\n",
    "prepare2='&mjd='\n",
    "prepare3='&fiberid='\n",
    "\n",
    "sey2_spectra_names = list()\n",
    "\n",
    "for i in range(len(plate)):\n",
    "    sey2_spectra_names.append(prepare1 + str(plate[i]) + prepare2 + str(mjd[i]) + prepare3 + str(fiberid[i]))\n",
    "\n",
    "\n",
    "# creating the list \"seyint_spectra_names\" containing the names of the type intermediate spectra\n",
    "\n",
    "info_seyint = ascii.read('/home/tobia/PycharmProjects/AGN_spectra/file_intermediate/int_data_flx.txt')\n",
    "\n",
    "plate = info_seyint['plate']\n",
    "mjd = info_seyint['mjd']\n",
    "fiberid = info_seyint['fiberid']\n",
    "\n",
    "prepare1='spec=lite?plateid='\n",
    "prepare2='&mjd='\n",
    "prepare3='&fiberid='\n",
    "\n",
    "seyint_spectra_names = list()\n",
    "\n",
    "for i in range(len(plate)):\n",
    "    seyint_spectra_names.append(prepare1 + str(plate[i]) + prepare2 + str(mjd[i]) + prepare3 + str(fiberid[i]))"
   ]
  },
  {
   "cell_type": "markdown",
   "metadata": {},
   "source": [
    "**Redshift correction**"
   ]
  },
  {
   "cell_type": "code",
   "execution_count": null,
   "metadata": {},
   "outputs": [],
   "source": [
    "# Type 2 redshift correction\n",
    "\n",
    "base_path = '/home/tobia/PycharmProjects/AGN_spectra/sey2/'\n",
    "swag_redshifts = info_sey2['z_1']\n",
    "destination_corrected = '/home/tobia/PycharmProjects/AGN_spectra/sey2_redshift_corrected/'\n",
    "redshift_correction(base_path, sey2_spectra_names, swag_redshifts, destination_corrected)"
   ]
  },
  {
   "cell_type": "code",
   "execution_count": null,
   "metadata": {},
   "outputs": [],
   "source": [
    "# Type intermediate redshift correction\n",
    "\n",
    "base_path_int = '/home/tobia/PycharmProjects/AGN_spectra/sey_intermediate/'\n",
    "int_redshifts = info_seyint['z_1']\n",
    "destination_int_corr = '/home/tobia/PycharmProjects/AGN_spectra/sey_int_redshift_corr/'\n",
    "redshift_correction(base_path_int, seyint_spectra_names, int_redshifts, destination_int_corr)"
   ]
  },
  {
   "cell_type": "markdown",
   "metadata": {},
   "source": [
    "**Flux normalization**"
   ]
  },
  {
   "cell_type": "code",
   "execution_count": null,
   "metadata": {},
   "outputs": [],
   "source": [
    "# Type 2 normalization\n",
    "\n",
    "base_path = '/home/tobia/PycharmProjects/AGN_spectra/sey2_redshift_corrected/'\n",
    "destination_normalized = '/home/tobia/PycharmProjects/AGN_spectra/sey2_z_corrected_calibrated_5100/'\n",
    "continuum_normalization(base_path, sey2_spectra_names, 5100, destination_normalized)"
   ]
  },
  {
   "cell_type": "code",
   "execution_count": null,
   "metadata": {},
   "outputs": [],
   "source": [
    "# Type intermediate normalization\n",
    "\n",
    "base_path_int = '/home/tobia/PycharmProjects/AGN_spectra/sey_int_redshift_corr/'\n",
    "destination_int_norm = '/home/tobia/PycharmProjects/AGN_spectra/sey_int_redshift_corr_calibr_5100/'\n",
    "continuum_normalization(base_path_int, seyint_spectra_names, 5100, destination_int_norm)"
   ]
  },
  {
   "cell_type": "markdown",
   "metadata": {},
   "source": [
    "## [SECTION 2]\n",
    "**Spectra manipulation: calculating minimum and maximum for every spectra**"
   ]
  },
  {
   "cell_type": "code",
   "execution_count": null,
   "metadata": {},
   "outputs": [],
   "source": [
    "# Creating two lists containing the paths of type 1 (\"type_1_agn\"), type 2 (\"type_2_agn\")\n",
    "# and type int (\"type_int_agn\"). Boths are corrected for redshift and flux normalized.\n",
    "\n",
    "path = '/home/tobia/PycharmProjects/AGN_spectra/MgII-Hb-z-corrected-spectra-txt/'\n",
    "\n",
    "type_1_agn = [f for f in glob.glob(path + \"**/*.txt\", recursive=True)]\n",
    "\n",
    "\n",
    "path_type_2 = '/home/tobia/PycharmProjects/AGN_spectra/sey2_z_corrected_calibrated_5100/'\n",
    "\n",
    "type_2_agn = [f for f in glob.glob(path_type_2 + \"**/*\", recursive=True)]\n",
    "\n",
    "\n",
    "path_type_int = '/home/tobia/PycharmProjects/AGN_spectra/sey_int_redshift_corr_calibr_5100/'\n",
    "\n",
    "type_int_agn = [f for f in glob.glob(path_type_int + \"**/*\", recursive=True)]"
   ]
  },
  {
   "cell_type": "code",
   "execution_count": null,
   "metadata": {},
   "outputs": [],
   "source": [
    "# Creates a .txt file containing minimum and maximum wave for every spectra (of type 1)\n",
    "\n",
    "min_max_wl_list(type_1_agn, 'min_and_max_wave.txt')"
   ]
  },
  {
   "cell_type": "code",
   "execution_count": null,
   "metadata": {},
   "outputs": [],
   "source": [
    "# Creates a .txt file containing minimum and maximum wave for every spectra (of type 2)\n",
    "\n",
    "min_max_wl_list(type_2_agn, 'min_and_max_wave_type_2_corrected_calibrated.txt')"
   ]
  },
  {
   "cell_type": "code",
   "execution_count": null,
   "metadata": {},
   "outputs": [],
   "source": [
    "# Creates a .txt file containing minimum and maximum wave for every spectra (of type intermediate)\n",
    "\n",
    "min_max_wl_list(type_int_agn, 'min_and_max_wave_type_int_corr_calib.txt')"
   ]
  },
  {
   "cell_type": "code",
   "execution_count": null,
   "metadata": {},
   "outputs": [],
   "source": [
    "# Minimum and maximum wave (type 1)\n",
    "\n",
    "print('Min max values for type 1: \\n')\n",
    "maximum_w, minimum_w = min_max_finding('min_and_max_wave.txt')\n",
    "print('\\n')\n",
    "\n",
    "# Minimum and maximum wave (type 2)\n",
    "\n",
    "print('Min max values for type 2: \\n')\n",
    "maximum_w_2, minimum_w_2 = min_max_finding('min_and_max_wave_type_2_corrected_calibrated.txt')\n",
    "print('\\n')\n",
    "\n",
    "# Minimum and maximum wave (type intermediate)\n",
    "\n",
    "print('Min max values for type int: \\n')\n",
    "maximum_w_int, minimum_w_int = min_max_finding('min_and_max_wave_type_int_corr_calib.txt')\n",
    "print('\\n')"
   ]
  },
  {
   "cell_type": "code",
   "execution_count": null,
   "metadata": {},
   "outputs": [],
   "source": [
    "# Data removing for type 2\n",
    "\n",
    "data_removing('min_and_max_wave_type_2_corrected_calibrated.txt',\n",
    "              \"/home/tobia/PycharmProjects/AGN_spectra/removed_sey2\", type_2_agn)"
   ]
  },
  {
   "cell_type": "code",
   "execution_count": null,
   "metadata": {},
   "outputs": [],
   "source": [
    "# Data removing for type intermediate\n",
    "\n",
    "data_removing('min_and_max_wave_type_int_corr_calib.txt',\n",
    "              \"/home/tobia/PycharmProjects/AGN_spectra/removed_int\", type_int_agn)"
   ]
  },
  {
   "cell_type": "code",
   "execution_count": null,
   "metadata": {},
   "outputs": [],
   "source": [
    "# Data removing for type 1\n",
    "\n",
    "data_removing('min_and_max_wave.txt',\n",
    "              \"/home/tobia/PycharmProjects/AGN_spectra/removed_sey1\", type_1_agn)"
   ]
  },
  {
   "cell_type": "markdown",
   "metadata": {},
   "source": [
    "## [SECTION 3]\n",
    "\n",
    "**Spectra interpolation**"
   ]
  },
  {
   "cell_type": "code",
   "execution_count": null,
   "metadata": {},
   "outputs": [],
   "source": [
    "# Interpolation points and interpolated spectra (fluxes) for type 1\n",
    "\n",
    "wave_interp, flux_interp = data_interpolation(type_1_agn, minimum_w_2, maximum_w, 1000)"
   ]
  },
  {
   "cell_type": "code",
   "execution_count": null,
   "metadata": {},
   "outputs": [],
   "source": [
    "# Interpolation points and interpolated spectra (fluxes) for type 2\n",
    "\n",
    "wave_interp_2, flux_interp_2 = data_interpolation(type_2_agn, minimum_w_2, maximum_w, 1000)"
   ]
  },
  {
   "cell_type": "code",
   "execution_count": null,
   "metadata": {},
   "outputs": [],
   "source": [
    "# Interpolated points and interpolated spectra (fluxes) for type intermediate\n",
    "\n",
    "wave_interp_int, flux_interp_int = data_interpolation(type_int_agn, minimum_w_2, maximum_w, 1000)"
   ]
  },
  {
   "cell_type": "markdown",
   "metadata": {},
   "source": [
    "## [SECTION 4]\n",
    "\n",
    "**Dataframe creation**"
   ]
  },
  {
   "cell_type": "code",
   "execution_count": null,
   "metadata": {},
   "outputs": [],
   "source": [
    "# creating labels \n",
    "\n",
    "type_1_label = np.ones(len(type_1_agn))\n",
    "type_2_label = np.full(len(type_2_agn), 2)\n",
    "type_int_label = np.full(len(type_int_agn), 3)\n",
    "labels_total = np.hstack((type_1_label, type_2_label, type_int_label))"
   ]
  },
  {
   "cell_type": "code",
   "execution_count": null,
   "metadata": {},
   "outputs": [],
   "source": [
    "# putting interpolated spectra and labels into pandas dataframe (only for type 1 and 2)\n",
    "\n",
    "flux_total = np.vstack((flux_interp, flux_interp_2))\n",
    "wave_total = wave_interp\n",
    "#labels_total = np.hstack((type_1_label, type_2_label))\n",
    "\n",
    "df=pd.DataFrame(data = flux_total, columns=wave_total)\n",
    "df['labels'] = labels_total\n",
    "display(df)\n",
    "\n",
    "# save pandas dataframe to csv table\n",
    "#df.to_csv(r'/home/tobia/PycharmProjects/AGN_spectra/table_data_type_1_and_2.csv', index=False)"
   ]
  },
  {
   "cell_type": "code",
   "execution_count": null,
   "metadata": {},
   "outputs": [],
   "source": [
    "# putting interpolated spectra and labels into pandas dataframe\n",
    "\n",
    "flux_total = np.vstack((flux_interp, flux_interp_2, flux_interp_int))\n",
    "wave_total = wave_interp \n",
    "#labels_total = np.hstack((type_1_label, type_2_label, type_int_label))\n",
    "\n",
    "df=pd.DataFrame(data = flux_total, columns=wave_total)\n",
    "df['labels'] = labels_total\n",
    "display(df)\n",
    "\n",
    "# save pandas dataframe to csv table\n",
    "#df.to_csv(r'/home/tobia/PycharmProjects/AGN_spectra/randomtries/norm_data_largerboundaries_final.csv', index=False)"
   ]
  }
 ],
 "metadata": {
  "kernelspec": {
   "display_name": "Python 3",
   "language": "python",
   "name": "python3"
  },
  "language_info": {
   "codemirror_mode": {
    "name": "ipython",
    "version": 3
   },
   "file_extension": ".py",
   "mimetype": "text/x-python",
   "name": "python",
   "nbconvert_exporter": "python",
   "pygments_lexer": "ipython3",
   "version": "3.7.3"
  }
 },
 "nbformat": 4,
 "nbformat_minor": 2
}
