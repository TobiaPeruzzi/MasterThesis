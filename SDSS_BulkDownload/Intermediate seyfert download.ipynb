{
 "cells": [
  {
   "cell_type": "code",
   "execution_count": 1,
   "metadata": {},
   "outputs": [],
   "source": [
    "from astropy.io import fits\n",
    "import numpy as np\n",
    "from astroquery.sdss import SDSS\n",
    "from astropy import coordinates as coords\n",
    "import os\n",
    "from astropy.io import ascii\n",
    "import csv"
   ]
  },
  {
   "cell_type": "code",
   "execution_count": 2,
   "metadata": {},
   "outputs": [],
   "source": [
    "hdul = ascii.read('int_data_flx.txt')"
   ]
  },
  {
   "cell_type": "code",
   "execution_count": null,
   "metadata": {},
   "outputs": [],
   "source": [
    "# DO NOT RUN\n",
    "\n",
    "plate = hdul['plate']\n",
    "mjd = hdul['mjd']\n",
    "fiberid = hdul['fiberid']\n",
    "\n",
    "\n",
    "prepare1='wget \\\"https://dr15.sdss.org/optical/spectrum/view/data/format=csv/spec=lite?plateid='\n",
    "prepare2='&mjd='\n",
    "prepare3='&fiberid='\n",
    "\n",
    "\n",
    "for i in range(len(plate)):\n",
    "    if i % 100 == 0:\n",
    "        print(i)\n",
    "    #print(prepare1 + str(plate[i]) + prepare2 + str(mjd[i]) + prepare3 + str(fiberid[i]) + '\\\"')\n",
    "    #os.system(prepare1 + str(plate[i]) + prepare2 + str(mjd[i]) + prepare3 + str(fiberid[i]) + '\\\"')"
   ]
  }
 ],
 "metadata": {
  "kernelspec": {
   "display_name": "Python 3",
   "language": "python",
   "name": "python3"
  },
  "language_info": {
   "codemirror_mode": {
    "name": "ipython",
    "version": 3
   },
   "file_extension": ".py",
   "mimetype": "text/x-python",
   "name": "python",
   "nbconvert_exporter": "python",
   "pygments_lexer": "ipython3",
   "version": "3.7.3"
  }
 },
 "nbformat": 4,
 "nbformat_minor": 2
}
